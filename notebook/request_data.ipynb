{
 "cells": [
  {
   "cell_type": "code",
   "execution_count": 5,
   "id": "a4bd73ef-7b07-4f19-aaa4-c11c7673acae",
   "metadata": {},
   "outputs": [],
   "source": [
    "import json\n",
    "import urllib3"
   ]
  },
  {
   "cell_type": "code",
   "execution_count": 2,
   "id": "b4921b04-9c70-4155-96ed-213796bac3dc",
   "metadata": {},
   "outputs": [],
   "source": [
    "http = urllib3.PoolManager()"
   ]
  },
  {
   "cell_type": "code",
   "execution_count": 21,
   "id": "63dd6edf-388f-4826-8de5-aa8e4df0e4a4",
   "metadata": {},
   "outputs": [],
   "source": [
    "data = json.dumps({\n",
    "    \"query\": \"\"\"\n",
    "    SELECT c.customer_id,\n",
    "           c.first_name,\n",
    "           c.last_name,\n",
    "           a.address,\n",
    "           a.postal_code\n",
    "    FROM customer c\n",
    "    JOIN address a ON c.address_id = a.address_id\n",
    "    ORDER BY first_name\n",
    "    LIMIT 10\n",
    "    \"\"\", \n",
    "    \"exercise\": \"esql1\"})"
   ]
  },
  {
   "cell_type": "code",
   "execution_count": 22,
   "id": "0fc6f2bb-06db-4b29-85f6-9b0b9faa253f",
   "metadata": {},
   "outputs": [],
   "source": [
    "res = http.request(method='POST', \n",
    "                   url='https://datahunt.fly.dev/checkdata', \n",
    "                   headers={'Content-Type':'application/json'}, \n",
    "                   body=data)"
   ]
  },
  {
   "cell_type": "code",
   "execution_count": 23,
   "id": "27ea866b-a941-49b2-a1be-ae438cdee307",
   "metadata": {},
   "outputs": [
    {
     "data": {
      "text/plain": [
       "b'\"True\"\\n'"
      ]
     },
     "execution_count": 23,
     "metadata": {},
     "output_type": "execute_result"
    }
   ],
   "source": [
    "res.data"
   ]
  },
  {
   "cell_type": "code",
   "execution_count": null,
   "id": "82bb863e-c6a7-4af7-86d3-cffb4d523aeb",
   "metadata": {},
   "outputs": [],
   "source": []
  }
 ],
 "metadata": {
  "kernelspec": {
   "display_name": "Python 3 (ipykernel)",
   "language": "python",
   "name": "python3"
  },
  "language_info": {
   "codemirror_mode": {
    "name": "ipython",
    "version": 3
   },
   "file_extension": ".py",
   "mimetype": "text/x-python",
   "name": "python",
   "nbconvert_exporter": "python",
   "pygments_lexer": "ipython3",
   "version": "3.9.1"
  }
 },
 "nbformat": 4,
 "nbformat_minor": 5
}
